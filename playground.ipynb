{
 "cells": [
  {
   "cell_type": "code",
   "execution_count": 1,
   "metadata": {},
   "outputs": [],
   "source": [
    "def jaccard_similarity(set1, set2):\n",
    "    set1_upper = {element.upper() for element in set1}\n",
    "    set2_upper = {element.upper() for element in set2}\n",
    "\n",
    "    intersection = len(set1_upper.intersection(set2_upper))\n",
    "    union = len(set1_upper.union(set2_upper))\n",
    "    \n",
    "    return intersection / union if union != 0 else 0"
   ]
  },
  {
   "cell_type": "code",
   "execution_count": 3,
   "metadata": {},
   "outputs": [],
   "source": [
    "sim = jaccard_similarity('dog', 'dogo')"
   ]
  },
  {
   "cell_type": "code",
   "execution_count": null,
   "metadata": {},
   "outputs": [],
   "source": [
    "def find_trigrams(text: str) -> set:\n",
    "    \"\"\"\n",
    "    returns a set of ngrams for the given string\n",
    "    :param text: the string to find ngrams for\n",
    "    :param number: the length the ngrams should be. defaults to 3 (trigrams)\n",
    "    :return: set of ngram strings\n",
    "    \"\"\"\n",
    "\n",
    "    if not text:\n",
    "        return set()\n",
    "\n",
    "    words = [f'  {x} ' for x in re.split(r'\\W+', text.lower()) if x.strip()]\n",
    "\n",
    "    ngrams = set()\n",
    "\n",
    "    for word in words:\n",
    "        for x in range(0, len(word) - 4):\n",
    "            ngrams.add(word[x:x+3])\n",
    "\n",
    "    return ngrams"
   ]
  }
 ],
 "metadata": {
  "kernelspec": {
   "display_name": "base",
   "language": "python",
   "name": "python3"
  },
  "language_info": {
   "codemirror_mode": {
    "name": "ipython",
    "version": 3
   },
   "file_extension": ".py",
   "mimetype": "text/x-python",
   "name": "python",
   "nbconvert_exporter": "python",
   "pygments_lexer": "ipython3",
   "version": "3.11.5"
  }
 },
 "nbformat": 4,
 "nbformat_minor": 2
}

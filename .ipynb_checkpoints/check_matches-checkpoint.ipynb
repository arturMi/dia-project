{
 "cells": [
  {
   "cell_type": "code",
   "execution_count": 76,
   "id": "393c653b",
   "metadata": {},
   "outputs": [],
   "source": [
    "import pandas as pd\n",
    "\n",
    "#DBLP-ACM_perfectMapping.csv\n",
    "data = pd.read_csv('./data/Matched_Entities_Block_jaccard_title.csv')\n",
    "\n",
    "# Sort the DataFrame by the first column\n",
    "sorted_df = data.sort_values(by=data.columns[0])"
   ]
  },
  {
   "cell_type": "code",
   "execution_count": 77,
   "id": "7d2682d9",
   "metadata": {},
   "outputs": [
    {
     "data": {
      "text/html": [
       "<div>\n",
       "<style scoped>\n",
       "    .dataframe tbody tr th:only-of-type {\n",
       "        vertical-align: middle;\n",
       "    }\n",
       "\n",
       "    .dataframe tbody tr th {\n",
       "        vertical-align: top;\n",
       "    }\n",
       "\n",
       "    .dataframe thead th {\n",
       "        text-align: right;\n",
       "    }\n",
       "</style>\n",
       "<table border=\"1\" class=\"dataframe\">\n",
       "  <thead>\n",
       "    <tr style=\"text-align: right;\">\n",
       "      <th></th>\n",
       "      <th>idDBLP</th>\n",
       "      <th>idACM</th>\n",
       "      <th>Similarity</th>\n",
       "    </tr>\n",
       "  </thead>\n",
       "  <tbody>\n",
       "    <tr>\n",
       "      <th>860</th>\n",
       "      <td>conf/sigmod/AbadiC02</td>\n",
       "      <td>564770</td>\n",
       "      <td>1.000000</td>\n",
       "    </tr>\n",
       "    <tr>\n",
       "      <th>9</th>\n",
       "      <td>conf/sigmod/AbadiCCCCEGHMRSSTXYZ03</td>\n",
       "      <td>872855</td>\n",
       "      <td>1.000000</td>\n",
       "    </tr>\n",
       "    <tr>\n",
       "      <th>494</th>\n",
       "      <td>conf/sigmod/AbiteboulBCMM03</td>\n",
       "      <td>872821</td>\n",
       "      <td>1.000000</td>\n",
       "    </tr>\n",
       "    <tr>\n",
       "      <th>2470</th>\n",
       "      <td>conf/sigmod/AbiteboulCM95</td>\n",
       "      <td>223854</td>\n",
       "      <td>0.714286</td>\n",
       "    </tr>\n",
       "    <tr>\n",
       "      <th>2148</th>\n",
       "      <td>conf/sigmod/AboulnagaC99</td>\n",
       "      <td>304198</td>\n",
       "      <td>1.000000</td>\n",
       "    </tr>\n",
       "  </tbody>\n",
       "</table>\n",
       "</div>"
      ],
      "text/plain": [
       "                                  idDBLP   idACM  Similarity\n",
       "860                 conf/sigmod/AbadiC02  564770    1.000000\n",
       "9     conf/sigmod/AbadiCCCCEGHMRSSTXYZ03  872855    1.000000\n",
       "494          conf/sigmod/AbiteboulBCMM03  872821    1.000000\n",
       "2470           conf/sigmod/AbiteboulCM95  223854    0.714286\n",
       "2148            conf/sigmod/AboulnagaC99  304198    1.000000"
      ]
     },
     "execution_count": 77,
     "metadata": {},
     "output_type": "execute_result"
    }
   ],
   "source": [
    "sorted_df.head()"
   ]
  },
  {
   "cell_type": "code",
   "execution_count": 78,
   "id": "bf67c619",
   "metadata": {},
   "outputs": [
    {
     "data": {
      "text/plain": [
       "2520"
      ]
     },
     "execution_count": 78,
     "metadata": {},
     "output_type": "execute_result"
    }
   ],
   "source": [
    "len(sorted_df)"
   ]
  },
  {
   "cell_type": "code",
   "execution_count": 79,
   "id": "3bdeeb13",
   "metadata": {},
   "outputs": [],
   "source": [
    "threshold = 0.75"
   ]
  },
  {
   "cell_type": "code",
   "execution_count": 80,
   "id": "70f34a33",
   "metadata": {},
   "outputs": [],
   "source": [
    "filtered_data = sorted_df[sorted_df['Similarity'] >= threshold]"
   ]
  },
  {
   "cell_type": "code",
   "execution_count": 81,
   "id": "3308cd9b",
   "metadata": {},
   "outputs": [
    {
     "data": {
      "text/html": [
       "<div>\n",
       "<style scoped>\n",
       "    .dataframe tbody tr th:only-of-type {\n",
       "        vertical-align: middle;\n",
       "    }\n",
       "\n",
       "    .dataframe tbody tr th {\n",
       "        vertical-align: top;\n",
       "    }\n",
       "\n",
       "    .dataframe thead th {\n",
       "        text-align: right;\n",
       "    }\n",
       "</style>\n",
       "<table border=\"1\" class=\"dataframe\">\n",
       "  <thead>\n",
       "    <tr style=\"text-align: right;\">\n",
       "      <th></th>\n",
       "      <th>idDBLP</th>\n",
       "      <th>idACM</th>\n",
       "      <th>Similarity</th>\n",
       "    </tr>\n",
       "  </thead>\n",
       "  <tbody>\n",
       "    <tr>\n",
       "      <th>860</th>\n",
       "      <td>conf/sigmod/AbadiC02</td>\n",
       "      <td>564770</td>\n",
       "      <td>1.0</td>\n",
       "    </tr>\n",
       "    <tr>\n",
       "      <th>9</th>\n",
       "      <td>conf/sigmod/AbadiCCCCEGHMRSSTXYZ03</td>\n",
       "      <td>872855</td>\n",
       "      <td>1.0</td>\n",
       "    </tr>\n",
       "    <tr>\n",
       "      <th>494</th>\n",
       "      <td>conf/sigmod/AbiteboulBCMM03</td>\n",
       "      <td>872821</td>\n",
       "      <td>1.0</td>\n",
       "    </tr>\n",
       "    <tr>\n",
       "      <th>2148</th>\n",
       "      <td>conf/sigmod/AboulnagaC99</td>\n",
       "      <td>304198</td>\n",
       "      <td>1.0</td>\n",
       "    </tr>\n",
       "    <tr>\n",
       "      <th>845</th>\n",
       "      <td>conf/sigmod/AcharyaAFZ95</td>\n",
       "      <td>223816</td>\n",
       "      <td>0.8</td>\n",
       "    </tr>\n",
       "    <tr>\n",
       "      <th>...</th>\n",
       "      <td>...</td>\n",
       "      <td>...</td>\n",
       "      <td>...</td>\n",
       "    </tr>\n",
       "    <tr>\n",
       "      <th>1796</th>\n",
       "      <td>journals/vldb/WhangKW94</td>\n",
       "      <td>615187</td>\n",
       "      <td>1.0</td>\n",
       "    </tr>\n",
       "    <tr>\n",
       "      <th>1628</th>\n",
       "      <td>journals/vldb/WhiteD95</td>\n",
       "      <td>191919</td>\n",
       "      <td>1.0</td>\n",
       "    </tr>\n",
       "    <tr>\n",
       "      <th>1627</th>\n",
       "      <td>journals/vldb/WhiteD95</td>\n",
       "      <td>615238</td>\n",
       "      <td>1.0</td>\n",
       "    </tr>\n",
       "    <tr>\n",
       "      <th>1765</th>\n",
       "      <td>journals/vldb/YangW03</td>\n",
       "      <td>950494</td>\n",
       "      <td>1.0</td>\n",
       "    </tr>\n",
       "    <tr>\n",
       "      <th>1442</th>\n",
       "      <td>journals/vldb/ZezulaSAR98</td>\n",
       "      <td>765541</td>\n",
       "      <td>1.0</td>\n",
       "    </tr>\n",
       "  </tbody>\n",
       "</table>\n",
       "<p>2373 rows × 3 columns</p>\n",
       "</div>"
      ],
      "text/plain": [
       "                                  idDBLP   idACM  Similarity\n",
       "860                 conf/sigmod/AbadiC02  564770         1.0\n",
       "9     conf/sigmod/AbadiCCCCEGHMRSSTXYZ03  872855         1.0\n",
       "494          conf/sigmod/AbiteboulBCMM03  872821         1.0\n",
       "2148            conf/sigmod/AboulnagaC99  304198         1.0\n",
       "845             conf/sigmod/AcharyaAFZ95  223816         0.8\n",
       "...                                  ...     ...         ...\n",
       "1796             journals/vldb/WhangKW94  615187         1.0\n",
       "1628              journals/vldb/WhiteD95  191919         1.0\n",
       "1627              journals/vldb/WhiteD95  615238         1.0\n",
       "1765               journals/vldb/YangW03  950494         1.0\n",
       "1442           journals/vldb/ZezulaSAR98  765541         1.0\n",
       "\n",
       "[2373 rows x 3 columns]"
      ]
     },
     "execution_count": 81,
     "metadata": {},
     "output_type": "execute_result"
    }
   ],
   "source": [
    "filtered_data"
   ]
  },
  {
   "cell_type": "code",
   "execution_count": 82,
   "id": "a57d8f41",
   "metadata": {},
   "outputs": [
    {
     "data": {
      "text/plain": [
       "2373"
      ]
     },
     "execution_count": 82,
     "metadata": {},
     "output_type": "execute_result"
    }
   ],
   "source": [
    "len(filtered_data)"
   ]
  },
  {
   "cell_type": "code",
   "execution_count": 83,
   "id": "9ff0a316",
   "metadata": {},
   "outputs": [],
   "source": [
    "data_mapping = pd.read_csv('./data/DBLP-ACM_perfectMapping.csv')"
   ]
  },
  {
   "cell_type": "code",
   "execution_count": 84,
   "id": "3be686b6",
   "metadata": {},
   "outputs": [],
   "source": [
    "data_mapping_sorted = data_mapping.sort_values(by=data.columns[0])"
   ]
  },
  {
   "cell_type": "code",
   "execution_count": 85,
   "id": "dc3fb49d",
   "metadata": {},
   "outputs": [
    {
     "data": {
      "text/html": [
       "<div>\n",
       "<style scoped>\n",
       "    .dataframe tbody tr th:only-of-type {\n",
       "        vertical-align: middle;\n",
       "    }\n",
       "\n",
       "    .dataframe tbody tr th {\n",
       "        vertical-align: top;\n",
       "    }\n",
       "\n",
       "    .dataframe thead th {\n",
       "        text-align: right;\n",
       "    }\n",
       "</style>\n",
       "<table border=\"1\" class=\"dataframe\">\n",
       "  <thead>\n",
       "    <tr style=\"text-align: right;\">\n",
       "      <th></th>\n",
       "      <th>idDBLP</th>\n",
       "      <th>idACM</th>\n",
       "    </tr>\n",
       "  </thead>\n",
       "  <tbody>\n",
       "    <tr>\n",
       "      <th>765</th>\n",
       "      <td>conf/sigmod/AbadiC02</td>\n",
       "      <td>564770</td>\n",
       "    </tr>\n",
       "    <tr>\n",
       "      <th>638</th>\n",
       "      <td>conf/sigmod/AbadiCCCCEGHMRSSTXYZ03</td>\n",
       "      <td>872855</td>\n",
       "    </tr>\n",
       "    <tr>\n",
       "      <th>630</th>\n",
       "      <td>conf/sigmod/AbiteboulBCMM03</td>\n",
       "      <td>872821</td>\n",
       "    </tr>\n",
       "    <tr>\n",
       "      <th>468</th>\n",
       "      <td>conf/sigmod/AbiteboulCM95</td>\n",
       "      <td>223854</td>\n",
       "    </tr>\n",
       "    <tr>\n",
       "      <th>202</th>\n",
       "      <td>conf/sigmod/AboulnagaC99</td>\n",
       "      <td>304198</td>\n",
       "    </tr>\n",
       "  </tbody>\n",
       "</table>\n",
       "</div>"
      ],
      "text/plain": [
       "                                 idDBLP   idACM\n",
       "765                conf/sigmod/AbadiC02  564770\n",
       "638  conf/sigmod/AbadiCCCCEGHMRSSTXYZ03  872855\n",
       "630         conf/sigmod/AbiteboulBCMM03  872821\n",
       "468           conf/sigmod/AbiteboulCM95  223854\n",
       "202            conf/sigmod/AboulnagaC99  304198"
      ]
     },
     "execution_count": 85,
     "metadata": {},
     "output_type": "execute_result"
    }
   ],
   "source": [
    "data_mapping_sorted.head()"
   ]
  },
  {
   "cell_type": "code",
   "execution_count": 86,
   "id": "ab9b5052",
   "metadata": {},
   "outputs": [
    {
     "data": {
      "text/plain": [
       "2224"
      ]
     },
     "execution_count": 86,
     "metadata": {},
     "output_type": "execute_result"
    }
   ],
   "source": [
    "len(data_mapping_sorted)"
   ]
  },
  {
   "cell_type": "code",
   "execution_count": 87,
   "id": "e82c3b7d",
   "metadata": {},
   "outputs": [],
   "source": [
    "compare_columns = ['idDBLP', 'idACM']"
   ]
  },
  {
   "cell_type": "code",
   "execution_count": 88,
   "id": "a3eb4dcd",
   "metadata": {},
   "outputs": [],
   "source": [
    "merged_df = pd.merge(filtered_data, data_mapping_sorted, on=compare_columns, how='inner')"
   ]
  },
  {
   "cell_type": "code",
   "execution_count": 89,
   "id": "ea7ed841",
   "metadata": {},
   "outputs": [
    {
     "data": {
      "text/html": [
       "<div>\n",
       "<style scoped>\n",
       "    .dataframe tbody tr th:only-of-type {\n",
       "        vertical-align: middle;\n",
       "    }\n",
       "\n",
       "    .dataframe tbody tr th {\n",
       "        vertical-align: top;\n",
       "    }\n",
       "\n",
       "    .dataframe thead th {\n",
       "        text-align: right;\n",
       "    }\n",
       "</style>\n",
       "<table border=\"1\" class=\"dataframe\">\n",
       "  <thead>\n",
       "    <tr style=\"text-align: right;\">\n",
       "      <th></th>\n",
       "      <th>idDBLP</th>\n",
       "      <th>idACM</th>\n",
       "      <th>Similarity</th>\n",
       "    </tr>\n",
       "  </thead>\n",
       "  <tbody>\n",
       "    <tr>\n",
       "      <th>0</th>\n",
       "      <td>conf/sigmod/AbadiC02</td>\n",
       "      <td>564770</td>\n",
       "      <td>1.0</td>\n",
       "    </tr>\n",
       "    <tr>\n",
       "      <th>1</th>\n",
       "      <td>conf/sigmod/AbadiCCCCEGHMRSSTXYZ03</td>\n",
       "      <td>872855</td>\n",
       "      <td>1.0</td>\n",
       "    </tr>\n",
       "    <tr>\n",
       "      <th>2</th>\n",
       "      <td>conf/sigmod/AbiteboulBCMM03</td>\n",
       "      <td>872821</td>\n",
       "      <td>1.0</td>\n",
       "    </tr>\n",
       "    <tr>\n",
       "      <th>3</th>\n",
       "      <td>conf/sigmod/AboulnagaC99</td>\n",
       "      <td>304198</td>\n",
       "      <td>1.0</td>\n",
       "    </tr>\n",
       "    <tr>\n",
       "      <th>4</th>\n",
       "      <td>conf/sigmod/AcharyaAFZ95</td>\n",
       "      <td>223816</td>\n",
       "      <td>0.8</td>\n",
       "    </tr>\n",
       "    <tr>\n",
       "      <th>...</th>\n",
       "      <td>...</td>\n",
       "      <td>...</td>\n",
       "      <td>...</td>\n",
       "    </tr>\n",
       "    <tr>\n",
       "      <th>2089</th>\n",
       "      <td>journals/vldb/WangW01</td>\n",
       "      <td>765508</td>\n",
       "      <td>1.0</td>\n",
       "    </tr>\n",
       "    <tr>\n",
       "      <th>2090</th>\n",
       "      <td>journals/vldb/WhangKW94</td>\n",
       "      <td>615187</td>\n",
       "      <td>1.0</td>\n",
       "    </tr>\n",
       "    <tr>\n",
       "      <th>2091</th>\n",
       "      <td>journals/vldb/WhiteD95</td>\n",
       "      <td>615238</td>\n",
       "      <td>1.0</td>\n",
       "    </tr>\n",
       "    <tr>\n",
       "      <th>2092</th>\n",
       "      <td>journals/vldb/YangW03</td>\n",
       "      <td>950494</td>\n",
       "      <td>1.0</td>\n",
       "    </tr>\n",
       "    <tr>\n",
       "      <th>2093</th>\n",
       "      <td>journals/vldb/ZezulaSAR98</td>\n",
       "      <td>765541</td>\n",
       "      <td>1.0</td>\n",
       "    </tr>\n",
       "  </tbody>\n",
       "</table>\n",
       "<p>2094 rows × 3 columns</p>\n",
       "</div>"
      ],
      "text/plain": [
       "                                  idDBLP   idACM  Similarity\n",
       "0                   conf/sigmod/AbadiC02  564770         1.0\n",
       "1     conf/sigmod/AbadiCCCCEGHMRSSTXYZ03  872855         1.0\n",
       "2            conf/sigmod/AbiteboulBCMM03  872821         1.0\n",
       "3               conf/sigmod/AboulnagaC99  304198         1.0\n",
       "4               conf/sigmod/AcharyaAFZ95  223816         0.8\n",
       "...                                  ...     ...         ...\n",
       "2089               journals/vldb/WangW01  765508         1.0\n",
       "2090             journals/vldb/WhangKW94  615187         1.0\n",
       "2091              journals/vldb/WhiteD95  615238         1.0\n",
       "2092               journals/vldb/YangW03  950494         1.0\n",
       "2093           journals/vldb/ZezulaSAR98  765541         1.0\n",
       "\n",
       "[2094 rows x 3 columns]"
      ]
     },
     "execution_count": 89,
     "metadata": {},
     "output_type": "execute_result"
    }
   ],
   "source": [
    "merged_df"
   ]
  },
  {
   "cell_type": "code",
   "execution_count": 90,
   "id": "510cd1fa",
   "metadata": {},
   "outputs": [],
   "source": [
    "tp = len(merged_df)\n",
    "fp = len(filtered_data) - len(merged_df)\n",
    "fn = len(data_mapping_sorted) - len(merged_df)"
   ]
  },
  {
   "cell_type": "code",
   "execution_count": 91,
   "id": "2d4a540d",
   "metadata": {},
   "outputs": [],
   "source": [
    "precision = tp/(tp+fp)\n",
    "recall = tp/(tp+fn)\n",
    "f_one = 2*((precision*recall)/(precision+recall))"
   ]
  },
  {
   "cell_type": "code",
   "execution_count": 92,
   "id": "ac29d920",
   "metadata": {},
   "outputs": [
    {
     "name": "stdout",
     "output_type": "stream",
     "text": [
      "The threshold for the Jaccard-Similarity was0.75\n",
      "The precision is: 0.8824273072060683\n",
      "The recall is: 0.9415467625899281\n",
      "The F1-score is: 0.9110289319121166\n"
     ]
    }
   ],
   "source": [
    "print('The threshold for the Jaccard-Similarity was ' + str(threshold))\n",
    "print('The precision is: ' + str(precision))\n",
    "print('The recall is: ' + str(recall))\n",
    "print('The F1-score is: ' + str(f_one))"
   ]
  },
  {
   "cell_type": "code",
   "execution_count": null,
   "id": "95786173",
   "metadata": {},
   "outputs": [],
   "source": [
    "# if the result is fine\n",
    "column_to_drop = 'Similarity'\n",
    "df_modified = merged_df.drop(column_to_drop, axis=1)\n",
    "df_modified.to_csv('Matched_Entities.csv', index=False)"
   ]
  }
 ],
 "metadata": {
  "kernelspec": {
   "display_name": "Python 3 (ipykernel)",
   "language": "python",
   "name": "python3"
  },
  "language_info": {
   "codemirror_mode": {
    "name": "ipython",
    "version": 3
   },
   "file_extension": ".py",
   "mimetype": "text/x-python",
   "name": "python",
   "nbconvert_exporter": "python",
   "pygments_lexer": "ipython3",
   "version": "3.11.5"
  }
 },
 "nbformat": 4,
 "nbformat_minor": 5
}

{
 "cells": [
  {
   "cell_type": "code",
   "execution_count": 196,
   "id": "4741e04d",
   "metadata": {},
   "outputs": [],
   "source": [
    "import pandas as pd\n",
    "\n",
    "#DBLP-ACM_perfectMapping.csv\n",
    "#data = pd.read_csv('./data/Matched_Entities_Block_jaccard_title.csv')\n",
    "data = pd.read_csv('./data/Matched_Entities_DF_jaccard_title.csv')\n",
    "\n",
    "# Sort the DataFrame by the first column\n",
    "sorted_df = data.sort_values(by=data.columns[0])"
   ]
  },
  {
   "cell_type": "code",
   "execution_count": 197,
   "id": "529d84db",
   "metadata": {},
   "outputs": [
    {
     "data": {
      "text/html": [
       "<div>\n",
       "<style scoped>\n",
       "    .dataframe tbody tr th:only-of-type {\n",
       "        vertical-align: middle;\n",
       "    }\n",
       "\n",
       "    .dataframe tbody tr th {\n",
       "        vertical-align: top;\n",
       "    }\n",
       "\n",
       "    .dataframe thead th {\n",
       "        text-align: right;\n",
       "    }\n",
       "</style>\n",
       "<table border=\"1\" class=\"dataframe\">\n",
       "  <thead>\n",
       "    <tr style=\"text-align: right;\">\n",
       "      <th></th>\n",
       "      <th>idDBLP</th>\n",
       "      <th>idACM</th>\n",
       "      <th>Similarity</th>\n",
       "    </tr>\n",
       "  </thead>\n",
       "  <tbody>\n",
       "    <tr>\n",
       "      <th>1851</th>\n",
       "      <td>conf/sigmod/AbadiC02</td>\n",
       "      <td>564770</td>\n",
       "      <td>1.000000</td>\n",
       "    </tr>\n",
       "    <tr>\n",
       "      <th>2126</th>\n",
       "      <td>conf/sigmod/AbadiCCCCEGHMRSSTXYZ03</td>\n",
       "      <td>872855</td>\n",
       "      <td>1.000000</td>\n",
       "    </tr>\n",
       "    <tr>\n",
       "      <th>2242</th>\n",
       "      <td>conf/sigmod/AbiteboulBCMM03</td>\n",
       "      <td>872821</td>\n",
       "      <td>1.000000</td>\n",
       "    </tr>\n",
       "    <tr>\n",
       "      <th>137</th>\n",
       "      <td>conf/sigmod/AbiteboulCM95</td>\n",
       "      <td>223854</td>\n",
       "      <td>0.714286</td>\n",
       "    </tr>\n",
       "    <tr>\n",
       "      <th>1062</th>\n",
       "      <td>conf/sigmod/AboulnagaC99</td>\n",
       "      <td>304198</td>\n",
       "      <td>1.000000</td>\n",
       "    </tr>\n",
       "  </tbody>\n",
       "</table>\n",
       "</div>"
      ],
      "text/plain": [
       "                                  idDBLP   idACM  Similarity\n",
       "1851                conf/sigmod/AbadiC02  564770    1.000000\n",
       "2126  conf/sigmod/AbadiCCCCEGHMRSSTXYZ03  872855    1.000000\n",
       "2242         conf/sigmod/AbiteboulBCMM03  872821    1.000000\n",
       "137            conf/sigmod/AbiteboulCM95  223854    0.714286\n",
       "1062            conf/sigmod/AboulnagaC99  304198    1.000000"
      ]
     },
     "execution_count": 197,
     "metadata": {},
     "output_type": "execute_result"
    }
   ],
   "source": [
    "sorted_df.head()"
   ]
  },
  {
   "cell_type": "code",
   "execution_count": 198,
   "id": "62fff17f",
   "metadata": {},
   "outputs": [
    {
     "data": {
      "text/plain": [
       "2296"
      ]
     },
     "execution_count": 198,
     "metadata": {},
     "output_type": "execute_result"
    }
   ],
   "source": [
    "len(sorted_df)"
   ]
  },
  {
   "cell_type": "code",
   "execution_count": 199,
   "id": "3b41cbc8",
   "metadata": {},
   "outputs": [],
   "source": [
    "threshold = 0.78"
   ]
  },
  {
   "cell_type": "code",
   "execution_count": 200,
   "id": "649b4f62",
   "metadata": {},
   "outputs": [],
   "source": [
    "filtered_data = sorted_df[sorted_df['Similarity'] >= threshold]"
   ]
  },
  {
   "cell_type": "code",
   "execution_count": 201,
   "id": "6822a3e6",
   "metadata": {},
   "outputs": [
    {
     "data": {
      "text/html": [
       "<div>\n",
       "<style scoped>\n",
       "    .dataframe tbody tr th:only-of-type {\n",
       "        vertical-align: middle;\n",
       "    }\n",
       "\n",
       "    .dataframe tbody tr th {\n",
       "        vertical-align: top;\n",
       "    }\n",
       "\n",
       "    .dataframe thead th {\n",
       "        text-align: right;\n",
       "    }\n",
       "</style>\n",
       "<table border=\"1\" class=\"dataframe\">\n",
       "  <thead>\n",
       "    <tr style=\"text-align: right;\">\n",
       "      <th></th>\n",
       "      <th>idDBLP</th>\n",
       "      <th>idACM</th>\n",
       "      <th>Similarity</th>\n",
       "    </tr>\n",
       "  </thead>\n",
       "  <tbody>\n",
       "    <tr>\n",
       "      <th>1851</th>\n",
       "      <td>conf/sigmod/AbadiC02</td>\n",
       "      <td>564770</td>\n",
       "      <td>1.0</td>\n",
       "    </tr>\n",
       "    <tr>\n",
       "      <th>2126</th>\n",
       "      <td>conf/sigmod/AbadiCCCCEGHMRSSTXYZ03</td>\n",
       "      <td>872855</td>\n",
       "      <td>1.0</td>\n",
       "    </tr>\n",
       "    <tr>\n",
       "      <th>2242</th>\n",
       "      <td>conf/sigmod/AbiteboulBCMM03</td>\n",
       "      <td>872821</td>\n",
       "      <td>1.0</td>\n",
       "    </tr>\n",
       "    <tr>\n",
       "      <th>1062</th>\n",
       "      <td>conf/sigmod/AboulnagaC99</td>\n",
       "      <td>304198</td>\n",
       "      <td>1.0</td>\n",
       "    </tr>\n",
       "    <tr>\n",
       "      <th>98</th>\n",
       "      <td>conf/sigmod/AcharyaAFZ95</td>\n",
       "      <td>223816</td>\n",
       "      <td>0.8</td>\n",
       "    </tr>\n",
       "    <tr>\n",
       "      <th>...</th>\n",
       "      <td>...</td>\n",
       "      <td>...</td>\n",
       "      <td>...</td>\n",
       "    </tr>\n",
       "    <tr>\n",
       "      <th>2265</th>\n",
       "      <td>journals/vldb/VerykiosME03</td>\n",
       "      <td>775455</td>\n",
       "      <td>1.0</td>\n",
       "    </tr>\n",
       "    <tr>\n",
       "      <th>1644</th>\n",
       "      <td>journals/vldb/WangW01</td>\n",
       "      <td>765508</td>\n",
       "      <td>1.0</td>\n",
       "    </tr>\n",
       "    <tr>\n",
       "      <th>160</th>\n",
       "      <td>journals/vldb/WhiteD95</td>\n",
       "      <td>615238</td>\n",
       "      <td>1.0</td>\n",
       "    </tr>\n",
       "    <tr>\n",
       "      <th>2258</th>\n",
       "      <td>journals/vldb/YangW03</td>\n",
       "      <td>950494</td>\n",
       "      <td>1.0</td>\n",
       "    </tr>\n",
       "    <tr>\n",
       "      <th>898</th>\n",
       "      <td>journals/vldb/ZezulaSAR98</td>\n",
       "      <td>765541</td>\n",
       "      <td>1.0</td>\n",
       "    </tr>\n",
       "  </tbody>\n",
       "</table>\n",
       "<p>2125 rows × 3 columns</p>\n",
       "</div>"
      ],
      "text/plain": [
       "                                  idDBLP   idACM  Similarity\n",
       "1851                conf/sigmod/AbadiC02  564770         1.0\n",
       "2126  conf/sigmod/AbadiCCCCEGHMRSSTXYZ03  872855         1.0\n",
       "2242         conf/sigmod/AbiteboulBCMM03  872821         1.0\n",
       "1062            conf/sigmod/AboulnagaC99  304198         1.0\n",
       "98              conf/sigmod/AcharyaAFZ95  223816         0.8\n",
       "...                                  ...     ...         ...\n",
       "2265          journals/vldb/VerykiosME03  775455         1.0\n",
       "1644               journals/vldb/WangW01  765508         1.0\n",
       "160               journals/vldb/WhiteD95  615238         1.0\n",
       "2258               journals/vldb/YangW03  950494         1.0\n",
       "898            journals/vldb/ZezulaSAR98  765541         1.0\n",
       "\n",
       "[2125 rows x 3 columns]"
      ]
     },
     "execution_count": 201,
     "metadata": {},
     "output_type": "execute_result"
    }
   ],
   "source": [
    "filtered_data"
   ]
  },
  {
   "cell_type": "code",
   "execution_count": 202,
   "id": "40f237dc",
   "metadata": {},
   "outputs": [
    {
     "data": {
      "text/plain": [
       "2125"
      ]
     },
     "execution_count": 202,
     "metadata": {},
     "output_type": "execute_result"
    }
   ],
   "source": [
    "len(filtered_data)"
   ]
  },
  {
   "cell_type": "code",
   "execution_count": 203,
   "id": "ec4955c6",
   "metadata": {},
   "outputs": [],
   "source": [
    "data_mapping = pd.read_csv('./data/DBLP-ACM_perfectMapping.csv')"
   ]
  },
  {
   "cell_type": "code",
   "execution_count": 204,
   "id": "07c079c5",
   "metadata": {},
   "outputs": [],
   "source": [
    "data_mapping_sorted = data_mapping.sort_values(by=data.columns[0])"
   ]
  },
  {
   "cell_type": "code",
   "execution_count": 205,
   "id": "d01f91c0",
   "metadata": {},
   "outputs": [
    {
     "data": {
      "text/html": [
       "<div>\n",
       "<style scoped>\n",
       "    .dataframe tbody tr th:only-of-type {\n",
       "        vertical-align: middle;\n",
       "    }\n",
       "\n",
       "    .dataframe tbody tr th {\n",
       "        vertical-align: top;\n",
       "    }\n",
       "\n",
       "    .dataframe thead th {\n",
       "        text-align: right;\n",
       "    }\n",
       "</style>\n",
       "<table border=\"1\" class=\"dataframe\">\n",
       "  <thead>\n",
       "    <tr style=\"text-align: right;\">\n",
       "      <th></th>\n",
       "      <th>idDBLP</th>\n",
       "      <th>idACM</th>\n",
       "    </tr>\n",
       "  </thead>\n",
       "  <tbody>\n",
       "    <tr>\n",
       "      <th>765</th>\n",
       "      <td>conf/sigmod/AbadiC02</td>\n",
       "      <td>564770</td>\n",
       "    </tr>\n",
       "    <tr>\n",
       "      <th>638</th>\n",
       "      <td>conf/sigmod/AbadiCCCCEGHMRSSTXYZ03</td>\n",
       "      <td>872855</td>\n",
       "    </tr>\n",
       "    <tr>\n",
       "      <th>630</th>\n",
       "      <td>conf/sigmod/AbiteboulBCMM03</td>\n",
       "      <td>872821</td>\n",
       "    </tr>\n",
       "    <tr>\n",
       "      <th>468</th>\n",
       "      <td>conf/sigmod/AbiteboulCM95</td>\n",
       "      <td>223854</td>\n",
       "    </tr>\n",
       "    <tr>\n",
       "      <th>202</th>\n",
       "      <td>conf/sigmod/AboulnagaC99</td>\n",
       "      <td>304198</td>\n",
       "    </tr>\n",
       "  </tbody>\n",
       "</table>\n",
       "</div>"
      ],
      "text/plain": [
       "                                 idDBLP   idACM\n",
       "765                conf/sigmod/AbadiC02  564770\n",
       "638  conf/sigmod/AbadiCCCCEGHMRSSTXYZ03  872855\n",
       "630         conf/sigmod/AbiteboulBCMM03  872821\n",
       "468           conf/sigmod/AbiteboulCM95  223854\n",
       "202            conf/sigmod/AboulnagaC99  304198"
      ]
     },
     "execution_count": 205,
     "metadata": {},
     "output_type": "execute_result"
    }
   ],
   "source": [
    "data_mapping_sorted.head()"
   ]
  },
  {
   "cell_type": "code",
   "execution_count": 206,
   "id": "0e5d02d1",
   "metadata": {},
   "outputs": [
    {
     "data": {
      "text/plain": [
       "2224"
      ]
     },
     "execution_count": 206,
     "metadata": {},
     "output_type": "execute_result"
    }
   ],
   "source": [
    "len(data_mapping_sorted)"
   ]
  },
  {
   "cell_type": "code",
   "execution_count": 207,
   "id": "e25876ed",
   "metadata": {},
   "outputs": [],
   "source": [
    "compare_columns = ['idDBLP', 'idACM']"
   ]
  },
  {
   "cell_type": "code",
   "execution_count": 208,
   "id": "7100f4a4",
   "metadata": {},
   "outputs": [],
   "source": [
    "merged_df = pd.merge(filtered_data, data_mapping_sorted, on=compare_columns, how='inner')"
   ]
  },
  {
   "cell_type": "code",
   "execution_count": 209,
   "id": "cd7f0cb3",
   "metadata": {},
   "outputs": [
    {
     "data": {
      "text/html": [
       "<div>\n",
       "<style scoped>\n",
       "    .dataframe tbody tr th:only-of-type {\n",
       "        vertical-align: middle;\n",
       "    }\n",
       "\n",
       "    .dataframe tbody tr th {\n",
       "        vertical-align: top;\n",
       "    }\n",
       "\n",
       "    .dataframe thead th {\n",
       "        text-align: right;\n",
       "    }\n",
       "</style>\n",
       "<table border=\"1\" class=\"dataframe\">\n",
       "  <thead>\n",
       "    <tr style=\"text-align: right;\">\n",
       "      <th></th>\n",
       "      <th>idDBLP</th>\n",
       "      <th>idACM</th>\n",
       "      <th>Similarity</th>\n",
       "    </tr>\n",
       "  </thead>\n",
       "  <tbody>\n",
       "    <tr>\n",
       "      <th>0</th>\n",
       "      <td>conf/sigmod/AbadiC02</td>\n",
       "      <td>564770</td>\n",
       "      <td>1.0</td>\n",
       "    </tr>\n",
       "    <tr>\n",
       "      <th>1</th>\n",
       "      <td>conf/sigmod/AbadiCCCCEGHMRSSTXYZ03</td>\n",
       "      <td>872855</td>\n",
       "      <td>1.0</td>\n",
       "    </tr>\n",
       "    <tr>\n",
       "      <th>2</th>\n",
       "      <td>conf/sigmod/AbiteboulBCMM03</td>\n",
       "      <td>872821</td>\n",
       "      <td>1.0</td>\n",
       "    </tr>\n",
       "    <tr>\n",
       "      <th>3</th>\n",
       "      <td>conf/sigmod/AboulnagaC99</td>\n",
       "      <td>304198</td>\n",
       "      <td>1.0</td>\n",
       "    </tr>\n",
       "    <tr>\n",
       "      <th>4</th>\n",
       "      <td>conf/sigmod/AcharyaAFZ95</td>\n",
       "      <td>223816</td>\n",
       "      <td>0.8</td>\n",
       "    </tr>\n",
       "    <tr>\n",
       "      <th>...</th>\n",
       "      <td>...</td>\n",
       "      <td>...</td>\n",
       "      <td>...</td>\n",
       "    </tr>\n",
       "    <tr>\n",
       "      <th>1858</th>\n",
       "      <td>journals/vldb/VerykiosME03</td>\n",
       "      <td>775455</td>\n",
       "      <td>1.0</td>\n",
       "    </tr>\n",
       "    <tr>\n",
       "      <th>1859</th>\n",
       "      <td>journals/vldb/WangW01</td>\n",
       "      <td>765508</td>\n",
       "      <td>1.0</td>\n",
       "    </tr>\n",
       "    <tr>\n",
       "      <th>1860</th>\n",
       "      <td>journals/vldb/WhiteD95</td>\n",
       "      <td>615238</td>\n",
       "      <td>1.0</td>\n",
       "    </tr>\n",
       "    <tr>\n",
       "      <th>1861</th>\n",
       "      <td>journals/vldb/YangW03</td>\n",
       "      <td>950494</td>\n",
       "      <td>1.0</td>\n",
       "    </tr>\n",
       "    <tr>\n",
       "      <th>1862</th>\n",
       "      <td>journals/vldb/ZezulaSAR98</td>\n",
       "      <td>765541</td>\n",
       "      <td>1.0</td>\n",
       "    </tr>\n",
       "  </tbody>\n",
       "</table>\n",
       "<p>1863 rows × 3 columns</p>\n",
       "</div>"
      ],
      "text/plain": [
       "                                  idDBLP   idACM  Similarity\n",
       "0                   conf/sigmod/AbadiC02  564770         1.0\n",
       "1     conf/sigmod/AbadiCCCCEGHMRSSTXYZ03  872855         1.0\n",
       "2            conf/sigmod/AbiteboulBCMM03  872821         1.0\n",
       "3               conf/sigmod/AboulnagaC99  304198         1.0\n",
       "4               conf/sigmod/AcharyaAFZ95  223816         0.8\n",
       "...                                  ...     ...         ...\n",
       "1858          journals/vldb/VerykiosME03  775455         1.0\n",
       "1859               journals/vldb/WangW01  765508         1.0\n",
       "1860              journals/vldb/WhiteD95  615238         1.0\n",
       "1861               journals/vldb/YangW03  950494         1.0\n",
       "1862           journals/vldb/ZezulaSAR98  765541         1.0\n",
       "\n",
       "[1863 rows x 3 columns]"
      ]
     },
     "execution_count": 209,
     "metadata": {},
     "output_type": "execute_result"
    }
   ],
   "source": [
    "merged_df"
   ]
  },
  {
   "cell_type": "code",
   "execution_count": 210,
   "id": "f3c2baa4",
   "metadata": {},
   "outputs": [],
   "source": [
    "tp = len(merged_df)\n",
    "fp = len(filtered_data) - len(merged_df)\n",
    "fn = len(data_mapping_sorted) - len(merged_df)"
   ]
  },
  {
   "cell_type": "code",
   "execution_count": 211,
   "id": "0d58bdcb",
   "metadata": {},
   "outputs": [],
   "source": [
    "precision = tp/(tp+fp)\n",
    "recall = tp/(tp+fn)\n",
    "f_one = 2*((precision*recall)/(precision+recall))"
   ]
  },
  {
   "cell_type": "code",
   "execution_count": 212,
   "id": "6e15ea6b",
   "metadata": {},
   "outputs": [
    {
     "name": "stdout",
     "output_type": "stream",
     "text": [
      "The threshold for the Jaccard-Similarity in Title was 0.78\n",
      "The precision is: 0.8767058823529412\n",
      "The recall is: 0.8376798561151079\n",
      "The F1-score is: 0.8567486778569786\n"
     ]
    }
   ],
   "source": [
    "print('The threshold for the Jaccard-Similarity in Title was ' + str(threshold))\n",
    "print('The precision is: ' + str(precision))\n",
    "print('The recall is: ' + str(recall))\n",
    "print('The F1-score is: ' + str(f_one))"
   ]
  },
  {
   "cell_type": "code",
   "execution_count": null,
   "id": "81769e88",
   "metadata": {},
   "outputs": [],
   "source": [
    "# on all data\n",
    "'''The threshold for the Jaccard-Similarity in Title was 0.78\n",
    "The precision is: 0.8767058823529412\n",
    "The recall is: 0.8376798561151079\n",
    "The F1-score is: 0.8567486778569786'''\n",
    "\n",
    "# on block data\n",
    "'''The threshold for the Jaccard-Similarity in Title was 0.78\n",
    "The precision is: 0.8837109876015391\n",
    "The recall is: 0.9294064748201439\n",
    "The F1-score is: 0.905982905982906'''"
   ]
  },
  {
   "cell_type": "code",
   "execution_count": null,
   "id": "d01bc31b",
   "metadata": {},
   "outputs": [],
   "source": [
    "# if the result is fine\n",
    "column_to_drop = 'Similarity'\n",
    "df_modified = merged_df.drop(column_to_drop, axis=1)\n",
    "df_modified.to_csv('Matched_Entities.csv', index=False)"
   ]
  }
 ],
 "metadata": {
  "kernelspec": {
   "display_name": "Python 3 (ipykernel)",
   "language": "python",
   "name": "python3"
  },
  "language_info": {
   "codemirror_mode": {
    "name": "ipython",
    "version": 3
   },
   "file_extension": ".py",
   "mimetype": "text/x-python",
   "name": "python",
   "nbconvert_exporter": "python",
   "pygments_lexer": "ipython3",
   "version": "3.11.5"
  }
 },
 "nbformat": 4,
 "nbformat_minor": 5
}
